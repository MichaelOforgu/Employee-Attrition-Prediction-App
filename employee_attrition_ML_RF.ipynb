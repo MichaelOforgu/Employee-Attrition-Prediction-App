{
 "cells": [
  {
   "cell_type": "markdown",
   "id": "b3e1c68d-8226-4651-b03b-8c84769164d2",
   "metadata": {},
   "source": [
    "<h2 style=\"color: purple;\">Employee Attrition Prediction App: End-to-End ML Project</h2>"
   ]
  },
  {
   "cell_type": "markdown",
   "id": "780db8dd-bbcc-455c-856e-3805c1defd79",
   "metadata": {},
   "source": [
    "- First, do some exploratory data analysis to figure out which variables have direct and clear impact on employee retention (i.e. whether they leave the company or continue to work)\n",
    "- Plot bar charts showing impact of employee salaries on retention\n",
    "- Plot bar charts showing corelation between department and employee retention\n",
    "- Build logistic regression model using variables that were narrowed down in step 1\n",
    "- Measure the accuracy of the model\n",
    "- Build Gradio App for future predictions"
   ]
  },
  {
   "cell_type": "code",
   "execution_count": 1,
   "id": "80e1da5f-b5df-452a-b542-060bb23606b2",
   "metadata": {},
   "outputs": [],
   "source": [
    "# Import libraries\n",
    "import numpy as np\n",
    "import pandas as pd\n",
    "import gradio as gr\n",
    "from sklearn.model_selection import train_test_split\n",
    "from sklearn.preprocessing import StandardScaler, LabelEncoder\n",
    "from sklearn.ensemble import RandomForestClassifier\n",
    "from sklearn.metrics import classification_report, confusion_matrix, roc_curve, auc\n",
    "import matplotlib.pyplot as plt\n",
    "import seaborn as sns\n",
    "%matplotlib inline"
   ]
  },
  {
   "cell_type": "code",
   "execution_count": 2,
   "id": "87a94ca5-da37-41d8-952f-1bfe6d7ac2fe",
   "metadata": {},
   "outputs": [
    {
     "data": {
      "text/html": [
       "<div>\n",
       "<style scoped>\n",
       "    .dataframe tbody tr th:only-of-type {\n",
       "        vertical-align: middle;\n",
       "    }\n",
       "\n",
       "    .dataframe tbody tr th {\n",
       "        vertical-align: top;\n",
       "    }\n",
       "\n",
       "    .dataframe thead th {\n",
       "        text-align: right;\n",
       "    }\n",
       "</style>\n",
       "<table border=\"1\" class=\"dataframe\">\n",
       "  <thead>\n",
       "    <tr style=\"text-align: right;\">\n",
       "      <th></th>\n",
       "      <th>satisfaction_level</th>\n",
       "      <th>last_evaluation</th>\n",
       "      <th>number_project</th>\n",
       "      <th>average_montly_hours</th>\n",
       "      <th>time_spend_company</th>\n",
       "      <th>Work_accident</th>\n",
       "      <th>left</th>\n",
       "      <th>promotion_last_5years</th>\n",
       "      <th>Department</th>\n",
       "      <th>salary</th>\n",
       "    </tr>\n",
       "  </thead>\n",
       "  <tbody>\n",
       "    <tr>\n",
       "      <th>0</th>\n",
       "      <td>0.38</td>\n",
       "      <td>0.53</td>\n",
       "      <td>2</td>\n",
       "      <td>157</td>\n",
       "      <td>3</td>\n",
       "      <td>0</td>\n",
       "      <td>1</td>\n",
       "      <td>0</td>\n",
       "      <td>sales</td>\n",
       "      <td>low</td>\n",
       "    </tr>\n",
       "    <tr>\n",
       "      <th>1</th>\n",
       "      <td>0.80</td>\n",
       "      <td>0.86</td>\n",
       "      <td>5</td>\n",
       "      <td>262</td>\n",
       "      <td>6</td>\n",
       "      <td>0</td>\n",
       "      <td>1</td>\n",
       "      <td>0</td>\n",
       "      <td>sales</td>\n",
       "      <td>medium</td>\n",
       "    </tr>\n",
       "    <tr>\n",
       "      <th>2</th>\n",
       "      <td>0.11</td>\n",
       "      <td>0.88</td>\n",
       "      <td>7</td>\n",
       "      <td>272</td>\n",
       "      <td>4</td>\n",
       "      <td>0</td>\n",
       "      <td>1</td>\n",
       "      <td>0</td>\n",
       "      <td>sales</td>\n",
       "      <td>medium</td>\n",
       "    </tr>\n",
       "    <tr>\n",
       "      <th>3</th>\n",
       "      <td>0.72</td>\n",
       "      <td>0.87</td>\n",
       "      <td>5</td>\n",
       "      <td>223</td>\n",
       "      <td>5</td>\n",
       "      <td>0</td>\n",
       "      <td>1</td>\n",
       "      <td>0</td>\n",
       "      <td>sales</td>\n",
       "      <td>low</td>\n",
       "    </tr>\n",
       "    <tr>\n",
       "      <th>4</th>\n",
       "      <td>0.37</td>\n",
       "      <td>0.52</td>\n",
       "      <td>2</td>\n",
       "      <td>159</td>\n",
       "      <td>3</td>\n",
       "      <td>0</td>\n",
       "      <td>1</td>\n",
       "      <td>0</td>\n",
       "      <td>sales</td>\n",
       "      <td>low</td>\n",
       "    </tr>\n",
       "  </tbody>\n",
       "</table>\n",
       "</div>"
      ],
      "text/plain": [
       "   satisfaction_level  last_evaluation  number_project  average_montly_hours  \\\n",
       "0                0.38             0.53               2                   157   \n",
       "1                0.80             0.86               5                   262   \n",
       "2                0.11             0.88               7                   272   \n",
       "3                0.72             0.87               5                   223   \n",
       "4                0.37             0.52               2                   159   \n",
       "\n",
       "   time_spend_company  Work_accident  left  promotion_last_5years Department  \\\n",
       "0                   3              0     1                      0      sales   \n",
       "1                   6              0     1                      0      sales   \n",
       "2                   4              0     1                      0      sales   \n",
       "3                   5              0     1                      0      sales   \n",
       "4                   3              0     1                      0      sales   \n",
       "\n",
       "   salary  \n",
       "0     low  \n",
       "1  medium  \n",
       "2  medium  \n",
       "3     low  \n",
       "4     low  "
      ]
     },
     "execution_count": 2,
     "metadata": {},
     "output_type": "execute_result"
    }
   ],
   "source": [
    "df = pd.read_csv('hr_comma_sep.csv')\n",
    "df.head()"
   ]
  },
  {
   "cell_type": "markdown",
   "id": "1a06b4f5-f625-49af-99ff-6194be0a9dba",
   "metadata": {},
   "source": [
    "<h3 style=\"color:purple\">Data exploration and visualization</h3>"
   ]
  },
  {
   "cell_type": "code",
   "execution_count": 3,
   "id": "b9b01d2e-7c52-4949-a5ae-8b5ea159f8ae",
   "metadata": {},
   "outputs": [
    {
     "data": {
      "text/plain": [
       "(3571, 10)"
      ]
     },
     "execution_count": 3,
     "metadata": {},
     "output_type": "execute_result"
    }
   ],
   "source": [
    "left = df[df.left==1]\n",
    "left.shape"
   ]
  },
  {
   "cell_type": "code",
   "execution_count": 4,
   "id": "aebef295-00ee-4fad-986a-c8e7b33bbb49",
   "metadata": {},
   "outputs": [
    {
     "data": {
      "text/plain": [
       "(11428, 10)"
      ]
     },
     "execution_count": 4,
     "metadata": {},
     "output_type": "execute_result"
    }
   ],
   "source": [
    "retained = df[df.left==0]\n",
    "retained.shape"
   ]
  },
  {
   "cell_type": "markdown",
   "id": "54f00707-45db-4aaa-b141-999e1e944a78",
   "metadata": {},
   "source": [
    "**Average numbers for all columns**"
   ]
  },
  {
   "cell_type": "code",
   "execution_count": 5,
   "id": "68421b47-bc91-4cf9-b128-ba4697faa192",
   "metadata": {},
   "outputs": [
    {
     "data": {
      "text/html": [
       "<div>\n",
       "<style scoped>\n",
       "    .dataframe tbody tr th:only-of-type {\n",
       "        vertical-align: middle;\n",
       "    }\n",
       "\n",
       "    .dataframe tbody tr th {\n",
       "        vertical-align: top;\n",
       "    }\n",
       "\n",
       "    .dataframe thead th {\n",
       "        text-align: right;\n",
       "    }\n",
       "</style>\n",
       "<table border=\"1\" class=\"dataframe\">\n",
       "  <thead>\n",
       "    <tr style=\"text-align: right;\">\n",
       "      <th></th>\n",
       "      <th>satisfaction_level</th>\n",
       "      <th>last_evaluation</th>\n",
       "      <th>number_project</th>\n",
       "      <th>average_montly_hours</th>\n",
       "      <th>time_spend_company</th>\n",
       "      <th>Work_accident</th>\n",
       "      <th>left</th>\n",
       "      <th>promotion_last_5years</th>\n",
       "    </tr>\n",
       "    <tr>\n",
       "      <th>left</th>\n",
       "      <th></th>\n",
       "      <th></th>\n",
       "      <th></th>\n",
       "      <th></th>\n",
       "      <th></th>\n",
       "      <th></th>\n",
       "      <th></th>\n",
       "      <th></th>\n",
       "    </tr>\n",
       "  </thead>\n",
       "  <tbody>\n",
       "    <tr>\n",
       "      <th>0</th>\n",
       "      <td>0.666810</td>\n",
       "      <td>0.715473</td>\n",
       "      <td>3.786664</td>\n",
       "      <td>199.060203</td>\n",
       "      <td>3.380032</td>\n",
       "      <td>0.175009</td>\n",
       "      <td>0.0</td>\n",
       "      <td>0.026251</td>\n",
       "    </tr>\n",
       "    <tr>\n",
       "      <th>1</th>\n",
       "      <td>0.440098</td>\n",
       "      <td>0.718113</td>\n",
       "      <td>3.855503</td>\n",
       "      <td>207.419210</td>\n",
       "      <td>3.876505</td>\n",
       "      <td>0.047326</td>\n",
       "      <td>1.0</td>\n",
       "      <td>0.005321</td>\n",
       "    </tr>\n",
       "  </tbody>\n",
       "</table>\n",
       "</div>"
      ],
      "text/plain": [
       "      satisfaction_level  last_evaluation  number_project  \\\n",
       "left                                                        \n",
       "0               0.666810         0.715473        3.786664   \n",
       "1               0.440098         0.718113        3.855503   \n",
       "\n",
       "      average_montly_hours  time_spend_company  Work_accident  left  \\\n",
       "left                                                                  \n",
       "0               199.060203            3.380032       0.175009   0.0   \n",
       "1               207.419210            3.876505       0.047326   1.0   \n",
       "\n",
       "      promotion_last_5years  \n",
       "left                         \n",
       "0                  0.026251  \n",
       "1                  0.005321  "
      ]
     },
     "execution_count": 5,
     "metadata": {},
     "output_type": "execute_result"
    }
   ],
   "source": [
    "numeric_cols = df.select_dtypes(include=[np.number]).columns\n",
    "\n",
    "# Group by 'left' and calculate the mean for numeric columns only\n",
    "mean_values = df.groupby('left')[numeric_cols].mean()\n",
    "mean_values"
   ]
  },
  {
   "cell_type": "markdown",
   "id": "ef0a39f4-4ae2-4d08-80e3-7df41c224230",
   "metadata": {},
   "source": [
    "From above table we can draw following conclusions,\n",
    "<ol>\n",
    "    <li>**Satisfaction Level**: Satisfaction level seems to be relatively low (0.44) in employees leaving the firm vs the retained ones (0.66)</li>\n",
    "    <li>**Average Monthly Hours**: Average monthly hours are higher in employees leaving the firm (199 vs 207)</li>\n",
    "    <li>**Promotion Last 5 Years**: Employees who are given promotion are likely to be retained at firm </li>\n",
    "</ol>"
   ]
  },
  {
   "cell_type": "markdown",
   "id": "1f3cbdb8-dc8c-4df2-8a9a-35935af4bcbf",
   "metadata": {},
   "source": [
    "**Impact of salary on employee retention**"
   ]
  },
  {
   "cell_type": "code",
   "execution_count": 23,
   "id": "5065808b-1b01-4cc8-8484-593b86098969",
   "metadata": {},
   "outputs": [
    {
     "data": {
      "image/png": "[encoded data removed]",
      "text/plain": [
       "<Figure size 640x480 with 1 Axes>"
      ]
     },
     "metadata": {},
     "output_type": "display_data"
    }
   ],
   "source": [
    "pd.crosstab(df.salary, df.left).plot(kind='bar')\n",
    "\n",
    "# Show the plot\n",
    "plt.xlabel('Salary')\n",
    "plt.ylabel('Number of Employees')\n",
    "plt.title('Employee Attrition by Salary')\n",
    "plt.show()"
   ]
  },
  {
   "cell_type": "markdown",
   "id": "59987de7-825b-4ed6-b2a6-43be5d4e8c48",
   "metadata": {},
   "source": [
    "Above bar chart shows employees with high salaries are likely to not leave the company"
   ]
  },
  {
   "cell_type": "markdown",
   "id": "cc3cb3df-c172-4342-a1ec-22828e23e513",
   "metadata": {},
   "source": [
    "**Department wise employee retention rate**"
   ]
  },
  {
   "cell_type": "code",
   "execution_count": 7,
   "id": "98b425c4-e7f0-44de-8574-701cb6d3cd76",
   "metadata": {},
   "outputs": [
    {
     "data": {
      "image/png": "[encoded data removed]",
      "text/plain": [
       "<Figure size 640x480 with 1 Axes>"
      ]
     },
     "metadata": {},
     "output_type": "display_data"
    }
   ],
   "source": [
    "pd.crosstab(df.Department, df.left).plot(kind='bar')\n",
    "\n",
    "# Show the plot\n",
    "plt.xlabel('Department')\n",
    "plt.ylabel('Number of Employees')\n",
    "plt.title('Employee Attrition by Department')\n",
    "plt.show()"
   ]
  },
  {
   "cell_type": "markdown",
   "id": "8c929d8d-d23b-4cd8-b297-7bb2ac80144c",
   "metadata": {},
   "source": [
    "From above chart there seem to be some impact of department on employee retention but it is not major hence we will ignore department in our analysis"
   ]
  },
  {
   "cell_type": "markdown",
   "id": "95fe3644-4cf5-4243-ad23-726b095c3870",
   "metadata": {},
   "source": [
    "<h3 style=\"color:purple\">From the data analysis so far we can conclude that we will use following variables as independant variables in our model</h3>\n",
    "<ol>\n",
    "    <li>**Satisfaction Level**</li>\n",
    "    <li>**Average Monthly Hours**</li>\n",
    "    <li>**Promotion Last 5 Years**</li>\n",
    "    <li>**Salary**</li>\n",
    "</ol>"
   ]
  },
  {
   "cell_type": "code",
   "execution_count": 8,
   "id": "2df33741-a4ce-44f8-b70b-21d44e7c6649",
   "metadata": {},
   "outputs": [
    {
     "data": {
      "text/html": [
       "<div>\n",
       "<style scoped>\n",
       "    .dataframe tbody tr th:only-of-type {\n",
       "        vertical-align: middle;\n",
       "    }\n",
       "\n",
       "    .dataframe tbody tr th {\n",
       "        vertical-align: top;\n",
       "    }\n",
       "\n",
       "    .dataframe thead th {\n",
       "        text-align: right;\n",
       "    }\n",
       "</style>\n",
       "<table border=\"1\" class=\"dataframe\">\n",
       "  <thead>\n",
       "    <tr style=\"text-align: right;\">\n",
       "      <th></th>\n",
       "      <th>satisfaction_level</th>\n",
       "      <th>average_montly_hours</th>\n",
       "      <th>promotion_last_5years</th>\n",
       "      <th>salary</th>\n",
       "    </tr>\n",
       "  </thead>\n",
       "  <tbody>\n",
       "    <tr>\n",
       "      <th>0</th>\n",
       "      <td>0.38</td>\n",
       "      <td>157</td>\n",
       "      <td>0</td>\n",
       "      <td>low</td>\n",
       "    </tr>\n",
       "    <tr>\n",
       "      <th>1</th>\n",
       "      <td>0.80</td>\n",
       "      <td>262</td>\n",
       "      <td>0</td>\n",
       "      <td>medium</td>\n",
       "    </tr>\n",
       "    <tr>\n",
       "      <th>2</th>\n",
       "      <td>0.11</td>\n",
       "      <td>272</td>\n",
       "      <td>0</td>\n",
       "      <td>medium</td>\n",
       "    </tr>\n",
       "    <tr>\n",
       "      <th>3</th>\n",
       "      <td>0.72</td>\n",
       "      <td>223</td>\n",
       "      <td>0</td>\n",
       "      <td>low</td>\n",
       "    </tr>\n",
       "    <tr>\n",
       "      <th>4</th>\n",
       "      <td>0.37</td>\n",
       "      <td>159</td>\n",
       "      <td>0</td>\n",
       "      <td>low</td>\n",
       "    </tr>\n",
       "  </tbody>\n",
       "</table>\n",
       "</div>"
      ],
      "text/plain": [
       "   satisfaction_level  average_montly_hours  promotion_last_5years  salary\n",
       "0                0.38                   157                      0     low\n",
       "1                0.80                   262                      0  medium\n",
       "2                0.11                   272                      0  medium\n",
       "3                0.72                   223                      0     low\n",
       "4                0.37                   159                      0     low"
      ]
     },
     "execution_count": 8,
     "metadata": {},
     "output_type": "execute_result"
    }
   ],
   "source": [
    "subdf = df[['satisfaction_level','average_montly_hours','promotion_last_5years','salary']]\n",
    "subdf.head()"
   ]
  },
  {
   "cell_type": "markdown",
   "id": "1bd54a9f-4f93-416b-9163-b50aa5801c3e",
   "metadata": {},
   "source": [
    "**Tackle salary dummy variable**\n",
    "Salary has all text data. It needs to be converted to numbers and we will use dummy variable for that"
   ]
  },
  {
   "cell_type": "code",
   "execution_count": 9,
   "id": "516d9c6a-015a-450c-b706-9a91f1b4c2df",
   "metadata": {},
   "outputs": [],
   "source": [
    "# Prepare the data\n",
    "subdf = subdf.copy()\n",
    "\n",
    "# Label encoding\n",
    "le_salary = LabelEncoder()\n",
    "subdf['salary_encoded'] = le_salary.fit_transform(subdf['salary'])"
   ]
  },
  {
   "cell_type": "markdown",
   "id": "77fdab43-8b9f-4ef7-a888-b3343daa9c4e",
   "metadata": {},
   "source": [
    "<h3 style=\"color:purple\">Model Training and Evaluation</h3>"
   ]
  },
  {
   "cell_type": "code",
   "execution_count": 10,
   "id": "1ff86dc1-b97e-4e50-86da-4a3a9596aefe",
   "metadata": {},
   "outputs": [],
   "source": [
    "X = subdf[['satisfaction_level', 'average_montly_hours', 'promotion_last_5years', 'salary_encoded']]\n",
    "y = df['left'].astype(int)\n",
    "\n",
    "# Split the data and scale features\n",
    "X_train, X_test, y_train, y_test = train_test_split(X, y, test_size=0.2, random_state=42)\n",
    "scaler = StandardScaler()\n",
    "X_train_scaled = scaler.fit_transform(X_train)\n",
    "X_test_scaled = scaler.transform(X_test)"
   ]
  },
  {
   "cell_type": "code",
   "execution_count": 11,
   "id": "a8ba7c95-1965-4858-a9e9-52569b78e1bc",
   "metadata": {},
   "outputs": [
    {
     "name": "stdout",
     "output_type": "stream",
     "text": [
      "Random Forest Classification Report:\n",
      "              precision    recall  f1-score   support\n",
      "\n",
      "           0       0.96      0.96      0.96      2294\n",
      "           1       0.88      0.87      0.87       706\n",
      "\n",
      "    accuracy                           0.94      3000\n",
      "   macro avg       0.92      0.91      0.92      3000\n",
      "weighted avg       0.94      0.94      0.94      3000\n",
      "\n"
     ]
    }
   ],
   "source": [
    "# Train Random Forest Classifier\n",
    "rf_model = RandomForestClassifier(n_estimators=100, random_state=42)\n",
    "rf_model.fit(X_train_scaled, y_train)\n",
    "\n",
    "# Predictions and classification report for Random Forest\n",
    "y_pred_rf = rf_model.predict(X_test_scaled)\n",
    "rf_report = classification_report(y_test, y_pred_rf)\n",
    "print(\"Random Forest Classification Report:\")\n",
    "print(rf_report)"
   ]
  },
  {
   "cell_type": "code",
   "execution_count": 12,
   "id": "8d798932-a121-4648-a041-d38194896e46",
   "metadata": {},
   "outputs": [
    {
     "data": {
      "image/png": "[encoded data removed]",
      "text/plain": [
       "<Figure size 1400x600 with 3 Axes>"
      ]
     },
     "metadata": {},
     "output_type": "display_data"
    }
   ],
   "source": [
    "# Confusion Matrix\n",
    "conf_matrix = confusion_matrix(y_test, y_pred_rf)\n",
    "\n",
    "# Get ROC curve data\n",
    "y_pred_rf_prob = rf_model.predict_proba(X_test_scaled)[:, 1]  # Probability estimates for the positive class\n",
    "fpr, tpr, thresholds = roc_curve(y_test, y_pred_rf_prob)\n",
    "roc_auc = auc(fpr, tpr)\n",
    "\n",
    "# Create side-by-side plots\n",
    "fig, ax = plt.subplots(1, 2, figsize=(14, 6))  # 1 row, 2 columns\n",
    "\n",
    "# Confusion Matrix Plot\n",
    "sns.heatmap(conf_matrix, annot=True, fmt=\"d\", cmap=\"Blues\", xticklabels=['Retained', 'Left'], yticklabels=['Retained', 'Left'], ax=ax[0])\n",
    "ax[0].set_title('Confusion Matrix')\n",
    "ax[0].set_ylabel('Actual')\n",
    "ax[0].set_xlabel('Predicted')\n",
    "\n",
    "# ROC Curve Plot\n",
    "ax[1].plot(fpr, tpr, label=f'Random Forest (AUC = {roc_auc:.2f})', color='darkorange', lw=2)\n",
    "ax[1].plot([0, 1], [0, 1], color='navy', lw=2, linestyle='--')  # Diagonal line\n",
    "ax[1].set_xlim([0.0, 1.0])\n",
    "ax[1].set_ylim([0.0, 1.05])\n",
    "ax[1].set_xlabel('False Positive Rate')\n",
    "ax[1].set_ylabel('True Positive Rate')\n",
    "ax[1].set_title('ROC Curve')\n",
    "ax[1].legend(loc=\"lower right\")\n",
    "\n",
    "# Adjust layout and display\n",
    "plt.tight_layout()\n",
    "plt.show()\n"
   ]
  },
  {
   "cell_type": "markdown",
   "id": "2f6af340-1c6e-4893-b238-a7b8fcfa4dd0",
   "metadata": {},
   "source": [
    "<h3 style=\"color:purple\">Build Gradio interactive interface for predicting employee attrition</h3>"
   ]
  },
  {
   "cell_type": "code",
   "execution_count": 13,
   "id": "8dc27c54-bdef-426e-8642-5785862b82ee",
   "metadata": {},
   "outputs": [],
   "source": [
    "def get_insight(satisfaction_level, average_montly_hours, promotion_last_5years, salary, probability):\n",
    "    insights = []\n",
    "    \n",
    "    # Primary insight based on probability\n",
    "    if probability > 0.75:\n",
    "        insights.append(f\"High risk of attrition (Probability: {probability:.2f}). Immediate action is required.\")\n",
    "    elif probability > 0.5:\n",
    "        insights.append(f\"Moderate risk of attrition (Probability: {probability:.2f}). Close attention and intervention are needed.\")\n",
    "    elif probability > 0.25:\n",
    "        insights.append(f\"Low risk of attrition (Probability: {probability:.2f}), but monitoring is advised.\")\n",
    "    else:\n",
    "        insights.append(f\"Very low risk of attrition (Probability: {probability:.2f}). The employee is likely to stay.\")\n",
    "\n",
    "    # Additional context based on other factors\n",
    "    if satisfaction_level < 0.4 and probability > 0.5:\n",
    "        insights.append(\"Low satisfaction level is a key factor contributing to the attrition risk.\")\n",
    "    \n",
    "    if average_montly_hours > 300 and probability > 0.5:\n",
    "        insights.append(\"High number of working hours may be contributing to burnout and increased attrition risk.\")\n",
    "    elif average_montly_hours < 150 and probability > 0.5:\n",
    "        insights.append(\"Low number of working hours might indicate disengagement, contributing to attrition risk.\")\n",
    "    \n",
    "    if promotion_last_5years == 0 and probability > 0.5:\n",
    "        insights.append(\"Lack of recent promotion could be a factor in the attrition risk.\")\n",
    "    \n",
    "    if salary == 'low' and probability > 0.5:\n",
    "        insights.append(\"Low salary is likely contributing to the attrition risk.\")\n",
    "\n",
    "    # Positive factors (if risk is low)\n",
    "    if probability <= 0.5:\n",
    "        if satisfaction_level > 0.6:\n",
    "            insights.append(\"Good satisfaction level is a positive factor for retention.\")\n",
    "        if 200 <= average_montly_hours <= 250:\n",
    "            insights.append(\"Balanced working hours contribute to employee stability.\")\n",
    "        if promotion_last_5years == 1:\n",
    "            insights.append(\"Recent promotion is a positive factor for retention.\")\n",
    "        if salary in ['medium', 'high']:\n",
    "            insights.append(f\"{salary.capitalize()} salary level supports employee retention.\")\n",
    "\n",
    "    return \" \".join(insights)"
   ]
  },
  {
   "cell_type": "code",
   "execution_count": 14,
   "id": "7bd9ee75-0388-41ec-96f5-7f1be10ed796",
   "metadata": {},
   "outputs": [],
   "source": [
    "import warnings\n",
    "warnings.filterwarnings(\"ignore\", message=\"X does not have valid feature names\")\n",
    "\n",
    "def predict_attrition(satisfaction_level, average_montly_hours, promotion_last_5years, salary):\n",
    "    try:\n",
    "        if salary is None:\n",
    "            raise ValueError(\"Salary cannot be None. Please select a salary level.\")\n",
    "        \n",
    "        if salary not in ['low', 'medium', 'high']:\n",
    "            raise ValueError(f\"Invalid salary value: {salary}. Expected 'low', 'medium', or 'high'.\")\n",
    "        \n",
    "        # Encode salary\n",
    "        salary_encoded = le_salary.transform([salary])[0]\n",
    "        \n",
    "        # Prepare input data\n",
    "        input_data = np.array([[\n",
    "            float(satisfaction_level), \n",
    "            float(average_montly_hours), \n",
    "            int(promotion_last_5years), \n",
    "            salary_encoded\n",
    "        ]])\n",
    "        \n",
    "        # Scale input data\n",
    "        input_scaled = scaler.transform(input_data)\n",
    "        \n",
    "        # Make prediction\n",
    "        prediction = rf_model.predict(input_scaled)[0]\n",
    "        probability = rf_model.predict_proba(input_scaled)[0][1]\n",
    "        \n",
    "        # Get insight\n",
    "        insight = get_insight(satisfaction_level, average_montly_hours, int(promotion_last_5years), salary, probability)\n",
    "        \n",
    "        # Determine result and image\n",
    "        if prediction == 1:\n",
    "            result = \"Leave\"\n",
    "            image = \"left.png\"\n",
    "        else:\n",
    "            result = \"Stay\"\n",
    "            image = \"retained.png\"\n",
    "        \n",
    "        return result, f\"{probability*100:.1f}%\", insight, image\n",
    "    \n",
    "    except Exception as e:\n",
    "        error_message = f\"Error: {str(e)}\"\n",
    "        print(error_message)  # Print to console for debugging\n",
    "        return error_message, \"Unable to generate insights due to an error.\", \"error.png\""
   ]
  },
  {
   "cell_type": "code",
   "execution_count": 15,
   "id": "ba23b745-8740-4199-863f-6bbb32f4361e",
   "metadata": {},
   "outputs": [
    {
     "name": "stdout",
     "output_type": "stream",
     "text": [
      "* Running on local URL:  http://127.0.0.1:7864\n",
      "\n",
      "To create a public link, set `share=True` in `launch()`.\n"
     ]
    },
    {
     "data": {
      "text/html": [
       "<div><iframe src=\"http://127.0.0.1:7864/\" width=\"100%\" height=\"500\" allow=\"autoplay; camera; microphone; clipboard-read; clipboard-write;\" frameborder=\"0\" allowfullscreen></iframe></div>"
      ],
      "text/plain": [
       "<IPython.core.display.HTML object>"
      ]
     },
     "metadata": {},
     "output_type": "display_data"
    },
    {
     "data": {
      "text/plain": []
     },
     "execution_count": 15,
     "metadata": {},
     "output_type": "execute_result"
    }
   ],
   "source": [
    "def create_dashboard():\n",
    "    with gr.Blocks(theme=gr.themes.Ocean()) as dashboard:\n",
    "        gr.Markdown(\"# Employee Attrition Predictor Dashboard\")\n",
    "        gr.Markdown(\"Predict whether an employee is likely to leave based on various factors.\")\n",
    "        \n",
    "        with gr.Row():\n",
    "            with gr.Column(scale=2):\n",
    "                satisfaction = gr.Slider(0, 1, value=0.5, step=0.01, label=\"Satisfaction Level\")\n",
    "                hours = gr.Slider(0, 400, value=200, step=1, label=\"Average Monthly Hours\")\n",
    "                promotion = gr.Radio([\"0\", \"1\"], value=\"0\", label=\"Promotion in Last 5 Years\")\n",
    "                salary = gr.Dropdown([\"Select salary level\", \"low\", \"medium\", \"high\"], value=\"Select salary level\", label=\"Salary\")\n",
    "                predict_btn = gr.Button(\"Predict Attrition\", variant=\"primary\")\n",
    "            \n",
    "            with gr.Column(scale=3):\n",
    "                with gr.Row():\n",
    "                    prediction = gr.Textbox(label=\"Prediction\")\n",
    "                    probability = gr.Textbox(label=\"Probability of Leaving\")\n",
    "                with gr.Row():\n",
    "                    image = gr.Image(type=\"filepath\", label=\"Status\", height=208, width=200)\n",
    "                    insight = gr.Textbox(label=\"Insights\", lines=6)\n",
    "        \n",
    "        predict_btn.click(\n",
    "            predict_attrition,\n",
    "            inputs=[satisfaction, hours, promotion, salary],\n",
    "            outputs=[prediction, probability, insight, image]\n",
    "        )\n",
    "\n",
    "    return dashboard\n",
    "\n",
    "iface = create_dashboard()\n",
    "iface.launch()"
   ]
  }
 ],
 "metadata": {
  "kernelspec": {
   "display_name": "Python 3 (ipykernel)",
   "language": "python",
   "name": "python3"
  },
  "language_info": {
   "codemirror_mode": {
    "name": "ipython",
    "version": 3
   },
   "file_extension": ".py",
   "mimetype": "text/x-python",
   "name": "python",
   "nbconvert_exporter": "python",
   "pygments_lexer": "ipython3",
   "version": "3.11.7"
  }
 },
 "nbformat": 4,
 "nbformat_minor": 5
}
